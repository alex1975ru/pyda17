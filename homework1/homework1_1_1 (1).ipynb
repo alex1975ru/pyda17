{
 "cells": [
  {
   "cell_type": "code",
   "execution_count": 23,
   "metadata": {},
   "outputs": [
    {
     "name": "stdout",
     "output_type": "stream",
     "text": [
      "Високосный год\n"
     ]
    }
   ],
   "source": [
    "year = 2200\n",
    "if year % 4 == 0 or year % 100 != 0 or year % 400 != 0: \n",
    "    print('Високосный год')\n",
    "else:\n",
    "    print('Обычный год')"
   ]
  },
  {
   "cell_type": "code",
   "execution_count": 6,
   "metadata": {},
   "outputs": [
    {
     "name": "stdout",
     "output_type": "stream",
     "text": [
      "Введите день:19\n",
      "Введите месяц:Декабрь\n",
      "Ваш знак зодиака: Стрелец\n"
     ]
    }
   ],
   "source": [
    "day = int(input(\"Введите день:\"))\n",
    "monts = str(input(\"Введите месяц:\"))\n",
    "if day > 20 and monts == \"Январь\" or day <= 20 and monts == \"Февраль\":\n",
    "  print(\"Ваш знак зодиака: Водолей\")\n",
    "elif day > 20 and monts == \"Февраль\" or day <= 20 and monts == \"Март\":\n",
    "  print(\"Ваш знак зодиака: Рыба\")\n",
    "elif day > 20 and monts == \"Март\" or day <= 20 and monts == \"Апрель\":\n",
    "  print(\"Ваш знак зодиака: Овен\")\n",
    "elif day > 20 and monts == \"Апрель\" or day <= 20 and monts == \"Май\":\n",
    "  print(\"Ваш знак зодиака: Телец\")\n",
    "elif day > 20 and monts == \"Май\" or day <= 21 and monts == \"Июнь\":\n",
    "  print(\"Ваш знак зодиака: Близнецы\")\n",
    "elif day > 21 and monts == \"Июнь\" or day <= 22 and monts == \"Июль\":\n",
    "  print(\"Ваш знак зодиака: Рак\") \n",
    "elif day > 22 and monts == \"Июль\" or day <= 23 and monts == \"Август\":\n",
    "  print(\"Ваш знак зодиака: Лев\")\n",
    "elif day > 23 and monts == \"Август\" or day <= 23 and monts == \"Сентябрь\":\n",
    "  print(\"Ваш знак зодиака: Дева\")\n",
    "elif day > 23 and monts == \"Сентябрь\" or day <= 23 and monts == \"Октябрь\":\n",
    "  print(\"Ваш знак зодиака: Весы\")\n",
    "elif day > 23 and monts == \"Октябрь\" or day <= 22 and monts == \"Ноябрь\":\n",
    "  print(\"Ваш знак зодиака: Скорпион\")\n",
    "elif day > 22 and monts == \"Ноябрь\" or day <= 21 and monts == \"Декабрь\":\n",
    "  print(\"Ваш знак зодиака: Стрелец\")\n",
    "elif day > 21 and monts == \"Декабрь\" or day <= 20 and monts == \"Январь\":\n",
    "  print(\"Ваш знак зодиака: Козерог\")  "
   ]
  },
  {
   "cell_type": "code",
   "execution_count": 7,
   "metadata": {},
   "outputs": [
    {
     "name": "stdout",
     "output_type": "stream",
     "text": [
      "Коробка №2\n"
     ]
    }
   ],
   "source": [
    "width = 10\n",
    "length = 205\n",
    "height = 5\n",
    "if width < 15 and length < 15 and height < 15:\n",
    "  print(\"Коробка №1\")\n",
    "elif width < 50 or length < 50 or height < 50:\n",
    "  print(\"Коробка №2\")\n",
    "elif length > 200:\n",
    "  print(\"Упаковка для лыж\")  \n",
    "else:\n",
    "  print(\"Стандартная коробка №3\")"
   ]
  }
 ],
 "metadata": {
  "kernelspec": {
   "display_name": "Python 3",
   "language": "python",
   "name": "python3"
  },
  "language_info": {
   "codemirror_mode": {
    "name": "ipython",
    "version": 3
   },
   "file_extension": ".py",
   "mimetype": "text/x-python",
   "name": "python",
   "nbconvert_exporter": "python",
   "pygments_lexer": "ipython3",
   "version": "3.8.5"
  }
 },
 "nbformat": 4,
 "nbformat_minor": 4
}
