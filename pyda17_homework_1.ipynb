{
 "cells": [
  {
   "cell_type": "markdown",
   "metadata": {},
   "source": [
    "# задание_1"
   ]
  },
  {
   "cell_type": "code",
   "execution_count": 1,
   "metadata": {},
   "outputs": [
    {
     "name": "stdout",
     "output_type": "stream",
     "text": [
      "Фраза 1 длиннее фразы 2\n"
     ]
    }
   ],
   "source": [
    "phrase_1 = 'Насколько проще было бы писать программы, если бы не заказчики'\n",
    "phrase_2 = '640Кб должно хватить для любых задач. Билл Гейтс (по легенде)'\n",
    "x = len(phrase_1)\n",
    "y = len(phrase_2)\n",
    "if x > y:\n",
    "  print(\"Фраза 1 длиннее фразы 2\")\n",
    "elif x < y:\n",
    "  print(\"Фраза 2 длиннее фразы 1\")\n",
    "else:\n",
    "  print(\"Фразы равной длины\")"
   ]
  },
  {
   "cell_type": "markdown",
   "metadata": {},
   "source": [
    "# задание_2"
   ]
  },
  {
   "cell_type": "code",
   "execution_count": 2,
   "metadata": {},
   "outputs": [
    {
     "name": "stdout",
     "output_type": "stream",
     "text": [
      "Високосный год\n"
     ]
    }
   ],
   "source": [
    "year = 2020\n",
    "if year % 4 == 0:\n",
    "  print('Високосный год')\n",
    "else:\n",
    "  print('Обычный год')"
   ]
  },
  {
   "cell_type": "markdown",
   "metadata": {},
   "source": [
    "# задание_3"
   ]
  },
  {
   "cell_type": "code",
   "execution_count": 3,
   "metadata": {},
   "outputs": [
    {
     "name": "stdout",
     "output_type": "stream",
     "text": [
      "Введите день:5\n",
      "Введите месяц:Апрель\n",
      "Ваш знак зодиака: Овен\n"
     ]
    }
   ],
   "source": [
    "day = int(input(\"Введите день:\"))\n",
    "monts = str(input(\"Введите месяц:\"))\n",
    "if day > 20 and monts == \"Январь\":\n",
    "  print(\"Ваш знак зодиака: Водолей\")\n",
    "elif day > 20 and monts == \"Февраль\":\n",
    "  print(\"Ваш знак зодиака: Рыба\")\n",
    "elif day > 20 and monts == \"Март\":\n",
    "  print(\"Ваш знак зодиака: Овен\")\n",
    "elif day > 20 and monts == \"Апрель\":\n",
    "  print(\"Ваш знак зодиака: Телец\")\n",
    "elif day > 20 and monts == \"Май\":\n",
    "  print(\"Ваш знак зодиака: Близнецы\")\n",
    "elif day > 21 and monts == \"Июнь\":\n",
    "  print(\"Ваш знак зодиака: Рак\")  \n",
    "elif day > 22 and monts == \"Июль\":\n",
    "  print(\"Ваш знак зодиака: Лев\")\n",
    "elif day > 23 and monts == \"Август\":\n",
    "  print(\"Ваш знак зодиака: Дева\")\n",
    "elif day > 23 and monts == \"Сентябрь\":\n",
    "  print(\"Ваш знак зодиака: Весы\")\n",
    "elif day > 23 and monts == \"Октябрь\":\n",
    "  print(\"Ваш знак зодиака: Скорпион\")\n",
    "elif day > 22 and monts == \"Ноябрь\":\n",
    "  print(\"Ваш знак зодиака: Стрелец\")\n",
    "elif day > 21 and monts == \"Декабрь\":\n",
    "  print(\"Ваш знак зодиака: Козерог\")  \n",
    "else:\n",
    "  if day <= 20 and monts == \"Январь\":\n",
    "    print(\"Ваш знак зодиака: Козерог\")\n",
    "  elif day <= 20 and monts == \"Февраль\":\n",
    "    print(\"Ваш знак зодиака: Водолей\")\n",
    "  elif day <= 20 and monts == \"Март\":\n",
    "    print(\"Ваш знак зодиака: Рыба\")\n",
    "  elif day <= 20 and monts == \"Апрель\":\n",
    "    print(\"Ваш знак зодиака: Овен\")\n",
    "  elif day <= 20 and monts == \"Май\":\n",
    "    print(\"Ваш знак зодиака: Телец\")\n",
    "  elif day <= 21 and monts == \"Июнь\":\n",
    "    print(\"Ваш знак зодиака: Близнецы\")  \n",
    "  elif day <= 22 and monts == \"Июль\":\n",
    "    print(\"Ваш знак зодиака: Рак\")\n",
    "  elif day <= 23 and monts == \"Август\":\n",
    "    print(\"Ваш знак зодиака: Лев\")\n",
    "  elif day <= 23 and monts == \"Сентябрь\":\n",
    "    print(\"Ваш знак зодиака: Дева\")\n",
    "  elif day <= 23 and monts == \"Октябрь\":\n",
    "    print(\"Ваш знак зодиака: Весы\")\n",
    "  elif day <= 22 and monts == \"Ноябрь\":\n",
    "    print(\"Ваш знак зодиака: Скорпион\")\n",
    "  elif day <= 21 and monts == \"Декабрь\":\n",
    "    print(\"Ваш знак зодиака: Стрелец\") "
   ]
  },
  {
   "cell_type": "markdown",
   "metadata": {},
   "source": [
    "# задание_4"
   ]
  },
  {
   "cell_type": "code",
   "execution_count": 4,
   "metadata": {},
   "outputs": [
    {
     "name": "stdout",
     "output_type": "stream",
     "text": [
      "Упаковка для лыж\n"
     ]
    }
   ],
   "source": [
    "width = 10\n",
    "length = 205\n",
    "height = 5\n",
    "if width < 15 and length < 15 and height < 15:\n",
    "  print(\"Коробка №1\")\n",
    "elif width < 50 and length < 50 and height < 50:\n",
    "  print(\"Коробка №2\")\n",
    "elif length > 200:\n",
    "  print(\"Упаковка для лыж\")  \n",
    "else:\n",
    "  print(\"Стандартная коробка №3\")"
   ]
  }
 ],
 "metadata": {
  "kernelspec": {
   "display_name": "Python 3",
   "language": "python",
   "name": "python3"
  },
  "language_info": {
   "codemirror_mode": {
    "name": "ipython",
    "version": 3
   },
   "file_extension": ".py",
   "mimetype": "text/x-python",
   "name": "python",
   "nbconvert_exporter": "python",
   "pygments_lexer": "ipython3",
   "version": "3.8.5"
  }
 },
 "nbformat": 4,
 "nbformat_minor": 4
}
