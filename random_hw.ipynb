{
 "cells": [
  {
   "cell_type": "code",
   "execution_count": 5,
   "metadata": {},
   "outputs": [],
   "source": [
    "import numpy as np"
   ]
  },
  {
   "cell_type": "code",
   "execution_count": 187,
   "metadata": {},
   "outputs": [
    {
     "name": "stdout",
     "output_type": "stream",
     "text": [
      "Количество выигрышей: 1950, Количество попыток: 10000, вероятность выигрыша: 0.195, Доход: -6114 рублей\n",
      "Сумма выгрыша/проигрыша за одну игру: -0.6113999999999999 рублей\n"
     ]
    }
   ],
   "source": [
    "trials = 10000    # Количество попыток\n",
    "successes = 0    # Количество успехов\n",
    "summ_count = 0   # Сумма выигрыша\n",
    "\n",
    "for i in range(trials):\n",
    "    random_score = np.random.randint(0, 10)    # Случайное количество очков от 0 до 999\n",
    "# Подсчет данных для трехзначных чисел\n",
    "    if len(str(random_score)) == 3 :\n",
    "        if random_score % 777 ==0:\n",
    "            summ_count += 200\n",
    "            successes += 1  \n",
    "        elif random_score % 999 ==0:\n",
    "            summ_count += 100\n",
    "            successes += 1\n",
    "        elif random_score % 555 ==0:\n",
    "            summ_count += 50\n",
    "            successes += 1\n",
    "        elif random_score % 333 ==0:\n",
    "            summ_count += 15\n",
    "            successes += 1\n",
    "        elif random_score % 111 ==0:\n",
    "            summ_count += 10\n",
    "            successes += 1\n",
    "        elif int(str(random_score)[1:]) % 77 == 0:\n",
    "            summ_count += 5\n",
    "            successes += 1 \n",
    "        elif int(str(random_score)[2:]) % 7 == 0 and int(str(random_score)[2:]) != 0 :\n",
    "            summ_count += 3 \n",
    "            successes += 1            \n",
    "        elif random_score % 100 ==0:\n",
    "            summ_count += 2 \n",
    "            successes += 1 \n",
    "        elif random_score % 10 ==0:\n",
    "            summ_count += 1 \n",
    "            successes += 1   \n",
    "# Подсчет данных для двузначных чисел\n",
    "    if len(str(random_score)) == 2:\n",
    "        if random_score % 77 == 0:\n",
    "            summ_count += 5\n",
    "            successes += 1\n",
    "        elif int(str(random_score)[1:]) % 7 == 0 and int(str(random_score)[1:]) != 0 :\n",
    "            summ_count += 3 \n",
    "            successes += 1              \n",
    "        elif random_score % 10 == 0:\n",
    "            summ_count += 1 \n",
    "            successes += 1 \n",
    "# Подсчет данных для однозначных чисел        \n",
    "    if len(str(random_score)) == 1:\n",
    "        if random_score % 7 == 0 and random_score != 0:\n",
    "            summ_count += 3 \n",
    "            successes += 1    \n",
    "        elif random_score == 0:\n",
    "            summ_count += 1 \n",
    "            successes += 1\n",
    "p_monte_carlo = successes / trials    # Вероятность из моделирования\n",
    "p_diff = summ_count - trials          # Разница между выгрышем и проигрышем\n",
    "p_diff_play = (summ_count / trials)-1     # Сумма выигрыша/потерь за одну игру\n",
    "print(f\"Количество выигрышей: {successes}, Количество попыток: {trials}, вероятность выигрыша: {p_monte_carlo}, Доход: {p_diff} рублей\")\n",
    "print(f\"Сумма выгрыша/проигрыша за одну игру: {p_diff_play} рублей\")\n"
   ]
  },
  {
   "cell_type": "code",
   "execution_count": null,
   "metadata": {},
   "outputs": [],
   "source": [
    "Играть не выгодно!!!!!"
   ]
  },
  {
   "cell_type": "code",
   "execution_count": null,
   "metadata": {},
   "outputs": [],
   "source": []
  }
 ],
 "metadata": {
  "kernelspec": {
   "display_name": "Python 3",
   "language": "python",
   "name": "python3"
  },
  "language_info": {
   "codemirror_mode": {
    "name": "ipython",
    "version": 3
   },
   "file_extension": ".py",
   "mimetype": "text/x-python",
   "name": "python",
   "nbconvert_exporter": "python",
   "pygments_lexer": "ipython3",
   "version": "3.8.5"
  }
 },
 "nbformat": 4,
 "nbformat_minor": 4
}
