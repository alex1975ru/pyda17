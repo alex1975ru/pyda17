{
 "cells": [
  {
   "cell_type": "code",
   "execution_count": 1,
   "metadata": {},
   "outputs": [
    {
     "name": "stdout",
     "output_type": "stream",
     "text": [
      "2002-10-02 00:00:00\n",
      "2013-11-10 00:00:00\n",
      "1977-08-18 00:00:00\n"
     ]
    }
   ],
   "source": [
    "from datetime import datetime\n",
    "The_Moscow_Times = 'Wednesday, October 2, 2002'\n",
    "The_Guardian = 'Friday, 11.10.13'\n",
    "Daily_News = 'Thursday, 18 August 1977'\n",
    "Moscow = datetime.strptime(The_Moscow_Times, '%A, %B %d, %Y')\n",
    "Guardian = datetime.strptime(The_Guardian, '%A, %m.%d.%y')\n",
    "Daily = datetime.strptime(Daily_News, '%A, %d %B %Y')\n",
    "print(Moscow)\n",
    "print(Guardian)\n",
    "print(Daily)"
   ]
  },
  {
   "cell_type": "code",
   "execution_count": 2,
   "metadata": {},
   "outputs": [
    {
     "name": "stdout",
     "output_type": "stream",
     "text": [
      "true\n",
      "false\n",
      "false\n"
     ]
    }
   ],
   "source": [
    "from datetime import datetime\n",
    "stream = ['2018-04-02', '2018-02-29', '2018-19-02']\n",
    "for i in stream:\n",
    "    try:\n",
    "        datetime.strptime(i, '%Y-%m-%d')\n",
    "        print('true')\n",
    "        \n",
    "    except:\n",
    "        print('false')"
   ]
  },
  {
   "cell_type": "code",
   "execution_count": 8,
   "metadata": {},
   "outputs": [
    {
     "name": "stdout",
     "output_type": "stream",
     "text": [
      "[datetime.datetime(2018, 4, 4, 0, 0), datetime.datetime(2018, 4, 5, 0, 0), datetime.datetime(2018, 4, 6, 0, 0)]\n"
     ]
    }
   ],
   "source": [
    "from datetime import datetime\n",
    "from datetime import timedelta\n",
    "start_date = '2018-04-04' \n",
    "end_date = '2018-04-07'\n",
    "date_list = []\n",
    "def date_range(a, b):\n",
    "    try:\n",
    "        start_date_= datetime.strptime(start_date, '%Y-%m-%d')\n",
    "        end_date_ = datetime.strptime(end_date, '%Y-%m-%d')\n",
    "        delta_date = (end_date_ - start_date_).days\n",
    "        for i in range(delta_date):\n",
    "            date_list.append(start_date_ + timedelta(days=i))   \n",
    "#         print(start_date_ + timedelta(days=i))\n",
    "    except:\n",
    "        print(date_list)   \n",
    "    print(date_list)\n",
    "date_range(start_date, date_list)"
   ]
  },
  {
   "cell_type": "code",
   "execution_count": null,
   "metadata": {},
   "outputs": [],
   "source": []
  }
 ],
 "metadata": {
  "kernelspec": {
   "display_name": "Python 3",
   "language": "python",
   "name": "python3"
  },
  "language_info": {
   "codemirror_mode": {
    "name": "ipython",
    "version": 3
   },
   "file_extension": ".py",
   "mimetype": "text/x-python",
   "name": "python",
   "nbconvert_exporter": "python",
   "pygments_lexer": "ipython3",
   "version": "3.8.5"
  }
 },
 "nbformat": 4,
 "nbformat_minor": 4
}
