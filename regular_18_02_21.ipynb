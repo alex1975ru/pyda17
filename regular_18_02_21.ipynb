{
 "cells": [
  {
   "cell_type": "code",
   "execution_count": 2,
   "metadata": {},
   "outputs": [
    {
     "name": "stdout",
     "output_type": "stream",
     "text": [
      "Номер АВ222С валиден, регион: 96\n"
     ]
    }
   ],
   "source": [
    "import re\n",
    "def number_car(auto):\n",
    "    car_id = auto\n",
    "    q1 = re.findall(r'^[АВЕКМНОРСТУХ]{2}\\d{3}(?<!000)[АВЕКМНОРСТУХ]{1}\\d{2,3}', car_id)\n",
    "    q2 = re.findall(r'\\d{2,3}$', car_id)\n",
    "    q = re.findall(r'^[АВЕКМНОРСТУХ]{2}\\d{3}(?<!000)[АВЕКМНОРСТУХ]{1}', car_id)\n",
    "    if q1:\n",
    "        print(\"Номер\", q[0], \"валиден, регион:\", q2[0])\n",
    "    else:\n",
    "        print('Номер не валиден')\n",
    "\n",
    "number_car('АВ222С96')"
   ]
  },
  {
   "cell_type": "code",
   "execution_count": 4,
   "metadata": {},
   "outputs": [
    {
     "name": "stdout",
     "output_type": "stream",
     "text": [
      "Напишите функцию которая будет удалять все последовательные повторы слов из заданной строки при помощи регулярных выражений\n"
     ]
    }
   ],
   "source": [
    "import re\n",
    "def duble(list_):\n",
    "    s = list_\n",
    "    print( re.sub(r'\\b([^\\W\\d_]+)(\\s+\\1)+\\b', r'\\1', re.sub(r'\\W+', ' ', s).strip(), flags=re.I) )\n",
    "duble('Напишите функцию функцию, которая будет будет будет будет удалять все все все все последовательные повторы слов из из из из заданной строки строки при помощи регулярных выражений')"
   ]
  },
  {
   "cell_type": "code",
   "execution_count": 8,
   "metadata": {},
   "outputs": [
    {
     "name": "stdout",
     "output_type": "stream",
     "text": [
      "NFC\n"
     ]
    }
   ],
   "source": [
    "import re\n",
    "def acronim(text):\n",
    "    some_words = text\n",
    "    acronim_text = re.findall(r'[А-ЯЁ|A-Z]', some_words)\n",
    "    print(''.join(acronim_text))\n",
    "acronim('Near Field Communication')"
   ]
  },
  {
   "cell_type": "code",
   "execution_count": 12,
   "metadata": {},
   "outputs": [
    {
     "name": "stdout",
     "output_type": "stream",
     "text": [
      "gmail.com : 2\n",
      "test.in : 1\n",
      "ya.ru : 2\n",
      "mail.ru : 1\n"
     ]
    }
   ],
   "source": [
    "import re\n",
    "def email(list_):\n",
    "    emails = list_\n",
    "    pattern = re.findall(r'@(\\w+\\.\\w+)', emails, flags=re.IGNORECASE)\n",
    "    d = dict()\n",
    "    for i in pattern:\n",
    "        if i in d:\n",
    "            d[i] = d[i] + 1\n",
    "        else:\n",
    "            d[i] = 1\n",
    "    for key in list(d.keys()):\n",
    "        print(key, \":\", d[key])\n",
    "email(\"\"\"['test@gmail.com, xyz@test.in, test@ya.ru, xyz@mail.ru, xyz@ya.ru', xyz@gmail.com]\"\"\")\n"
   ]
  },
  {
   "cell_type": "code",
   "execution_count": null,
   "metadata": {},
   "outputs": [],
   "source": []
  }
 ],
 "metadata": {
  "kernelspec": {
   "display_name": "Python 3",
   "language": "python",
   "name": "python3"
  },
  "language_info": {
   "codemirror_mode": {
    "name": "ipython",
    "version": 3
   },
   "file_extension": ".py",
   "mimetype": "text/x-python",
   "name": "python",
   "nbconvert_exporter": "python",
   "pygments_lexer": "ipython3",
   "version": "3.8.5"
  }
 },
 "nbformat": 4,
 "nbformat_minor": 4
}
